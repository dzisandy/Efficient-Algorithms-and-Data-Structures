{
 "cells": [
  {
   "cell_type": "code",
   "execution_count": 1,
   "metadata": {},
   "outputs": [
    {
     "name": "stdout",
     "output_type": "stream",
     "text": [
      "307\n",
      "54\n"
     ]
    }
   ],
   "source": [
    "def read(file):\n",
    "    f = open(file, \"r\") \n",
    "    L = int(f.readline())\n",
    "    words = list(f.readline().split())\n",
    "    n = len(words)\n",
    "    length = [len(words[i]) for i in range(n)]\n",
    "    return length, L, n\n",
    "\n",
    "def d(a,b): \n",
    "    return (a - b + 1)**2\n",
    "\n",
    "def wordmargin(l, L, n):\n",
    "    dist  = [[0] for i in range(n)] \n",
    "    line = [[0] for i in range(n)]\n",
    "    \n",
    "    length = l[0] + 1\n",
    "    #print(length)\n",
    "    itr = 0\n",
    "    \n",
    "    while length - 1 <= L:\n",
    "        line[itr] = 1\n",
    "        dist[itr] = d(L,length)\n",
    "        itr = itr + 1\n",
    "        length = length + l[itr] + 1\n",
    "    for i in range(itr, n):\n",
    "        #print(i)\n",
    "        length = l[i] + 1\n",
    "        dist[i] = d(L,length) + dist[i-1]\n",
    "        length = length + l[i-1] + 1 \n",
    "        line[i] = line[i-1] + 1\n",
    "        k = 1 \n",
    "        while length - 1 <= L:\n",
    "            #print('ok')\n",
    "            if i - k > 0:\n",
    "                \n",
    "                if d(L,length) + dist[i - (k + 1)] < dist[i]:\n",
    "                    line[i] = line[i - (k+1)] + 1\n",
    "                    dist[i] = dist[i - (k +1)] + d(L,length)\n",
    "                k = k + 1\n",
    "                length = length + l[i-k] + 1\n",
    "    return dist[-1],line[-1]\n",
    "\n",
    "\n",
    "def write(a,b):\n",
    "    out = open(\"output.txt\", \"w\")\n",
    "    out.write(str(a) + '\\n' + str(b))\n",
    "    out.close()\n",
    "    return 0\n",
    "\n",
    "length, L, n =  read('input.txt')\n",
    "dist, N = wordmargin(length, L, n) \n",
    "write(dist,N)\n",
    "print(dist)\n",
    "print(N)"
   ]
  },
  {
   "cell_type": "code",
   "execution_count": null,
   "metadata": {},
   "outputs": [],
   "source": []
  },
  {
   "cell_type": "code",
   "execution_count": null,
   "metadata": {},
   "outputs": [],
   "source": []
  }
 ],
 "metadata": {
  "kernelspec": {
   "display_name": "Python 3",
   "language": "python",
   "name": "python3"
  },
  "language_info": {
   "codemirror_mode": {
    "name": "ipython",
    "version": 3
   },
   "file_extension": ".py",
   "mimetype": "text/x-python",
   "name": "python",
   "nbconvert_exporter": "python",
   "pygments_lexer": "ipython3",
   "version": "3.6.5"
  }
 },
 "nbformat": 4,
 "nbformat_minor": 2
}
