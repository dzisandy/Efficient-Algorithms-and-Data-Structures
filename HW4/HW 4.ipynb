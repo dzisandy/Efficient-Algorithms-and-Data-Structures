{
 "cells": [
  {
   "cell_type": "code",
   "execution_count": 1,
   "metadata": {},
   "outputs": [
    {
     "name": "stdout",
     "output_type": "stream",
     "text": [
      "307\n",
      "54\n"
     ]
    }
   ],
   "source": [
    "def read(file):\n",
    "    f = open(file, \"r\") \n",
    "    L = int(f.readline())\n",
    "    words = list(f.readline().split())\n",
    "    n = len(words)\n",
    "    length = [len(words[i]) for i in range(n)]\n",
    "    dist  = [[0] for i in range(n)] \n",
    "    line = [[0] for i in range(n)]\n",
    "    return length, L, n, dist,line\n",
    "\n",
    "def d(a,b): \n",
    "    return (a - b + 1)**2\n",
    "\n",
    "def add(a,b,i):\n",
    "    return a[i-1] + b\n",
    "\n",
    "def wordmargin(l, L, n, dist, line):\n",
    "    length = l[0] + 1\n",
    "    #print(length)\n",
    "    itr = 0\n",
    "    \n",
    "    for i in range(n):\n",
    "        if length - 1 <= L:\n",
    "            line[itr] = 1\n",
    "            dist[itr] = d(L,length)\n",
    "            itr = itr + 1\n",
    "            length = length + l[itr] + 1\n",
    "        else: \n",
    "            break\n",
    "    \n",
    "    for i in range(itr, n):\n",
    "        #print(i)\n",
    "        length = add(l,1,i+1)\n",
    "        dist[i] = add(dist,d(L,length),i)\n",
    "        length = add(l,length + 1,i)\n",
    "        line[i] = add(line,1,i)\n",
    "        \n",
    "        k = 1 \n",
    "        while length - 1 <= L:\n",
    "            #print('ok')\n",
    "            if i - k > 0:\n",
    "                if add(dist, d(L,length), i - k) < dist[i]:\n",
    "                    line[i] = add(line,1,i - k)\n",
    "                    dist[i] = add(dist,d(L,length),i - k)\n",
    "                k = k + 1\n",
    "                length = add(l,length + 1,i-k+1)\n",
    "    \n",
    "    dist = dist[::-1][0]\n",
    "    line = line[::-1][0]\n",
    "    return dist,line\n",
    "\n",
    "\n",
    "def write(a,b):\n",
    "    out = open(\"output.txt\", \"w\")\n",
    "    out.write(str(a) + '\\n' + str(b))\n",
    "    out.close()\n",
    "    return 0\n",
    "\n",
    "length, L, n, dist, line =  read('input.txt')\n",
    "distance, N = wordmargin(length, L, n, dist, line) \n",
    "write(distance,N)\n",
    "print(distance)\n",
    "print(N)"
   ]
  },
  {
   "cell_type": "code",
   "execution_count": null,
   "metadata": {},
   "outputs": [],
   "source": []
  }
 ],
 "metadata": {
  "kernelspec": {
   "display_name": "Python 3",
   "language": "python",
   "name": "python3"
  },
  "language_info": {
   "codemirror_mode": {
    "name": "ipython",
    "version": 3
   },
   "file_extension": ".py",
   "mimetype": "text/x-python",
   "name": "python",
   "nbconvert_exporter": "python",
   "pygments_lexer": "ipython3",
   "version": "3.6.5"
  }
 },
 "nbformat": 4,
 "nbformat_minor": 2
}
