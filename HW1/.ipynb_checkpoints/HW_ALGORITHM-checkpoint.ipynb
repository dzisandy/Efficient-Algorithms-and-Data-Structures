{
 "cells": [
  {
   "cell_type": "markdown",
   "metadata": {},
   "source": [
    "# Shortest path on a graph with strangely defined weights\n",
    "## Task\n",
    "\n",
    "We are given a directed graph G=(V,E) and a source node s in V. The graph has weighted edges, and the weights are defined in the following \"recursive\" way: for each edge (p,q), its weight is 1 iff the shortest path distance from s to p in graph G is an even number (including 0), otherwise its weight is 3. In so weighted graph, given a destination node t, compute the shortest path from s to t using Dijkstra's algorithm with \"early exit\" strategy. (Suggestion: take time to think about this definition of weights and to get convinced that it is well-stated.)\n",
    "\n",
    "## Input:\n",
    "\n",
    "Input file named input.txt is formatted as follows:\n",
    "1st line: number of vertices |V| (single positive integer)\n",
    "2nd line: number of edges m=|E| (single positive integer)\n",
    "3rd line: index of source node s\n",
    "4th line: indexes of destination node t\n",
    "following m lines: pairs of vertices representing edges, separated by a space, where vertices are numbered from 0 to n-1\n",
    "\n",
    "## Output:\n",
    "\n",
    "Output file named output.txt should contain the single number: cost of the shortest path from s to t\n"
   ]
  },
  {
   "cell_type": "code",
   "execution_count": 1,
   "metadata": {},
   "outputs": [],
   "source": [
    "from collections import deque"
   ]
  },
  {
   "cell_type": "code",
   "execution_count": 2,
   "metadata": {},
   "outputs": [],
   "source": [
    "#creating adjacency list\n",
    "def adjacency_list(n,m,file):\n",
    "    pairs = []\n",
    "    adj_list = [set() for i in range(n)]\n",
    "    for i in range(m):\n",
    "        index, values = list(map(int, file.readline().split()))\n",
    "        pairs.append([index, values])\n",
    "        adj_list[index].add(values)\n",
    "    return pairs,adj_list"
   ]
  },
  {
   "cell_type": "code",
   "execution_count": 3,
   "metadata": {},
   "outputs": [],
   "source": [
    "# using bfs, based on adjacency list to create weighed graph\n",
    "def weight(file):\n",
    "    f = open(file)\n",
    "    \n",
    "    param = []\n",
    "    for i in range(4):\n",
    "        param.append(int(f.readline()))\n",
    "    n = param[0]\n",
    "    m = param[1]\n",
    "    s = param[2]\n",
    "    t = param[3]\n",
    "    \n",
    "    pairs, adj_list = adjacency_list(n,m,f)\n",
    "    dist = bfs(adj_list,s)\n",
    "    weight = [{} for i in range(n)]\n",
    "    for pair in pairs:\n",
    "        if dist[pair[0]] % 2 == 0:\n",
    "            weight[pair[0]][pair[1]] = 1\n",
    "        else:\n",
    "            weight[pair[0]][pair[1]] = 2\n",
    "    f.close()\n",
    "    return weight,s,t"
   ]
  },
  {
   "cell_type": "code",
   "execution_count": 4,
   "metadata": {},
   "outputs": [],
   "source": [
    "def bfs(adj_list,s):\n",
    "    dist = [999999 for i in range(len(adj_list))]\n",
    "    dist[s] = 0\n",
    "    exp = [False for i in range(len(adj_list))]\n",
    "    exp[s] = True\n",
    "    q = deque()\n",
    "    q.appendleft(s)\n",
    "\n",
    "    while(len(q) != 0):\n",
    "        v = q.pop()\n",
    "        for t in adj_list[v]:\n",
    "            if not exp[t]:\n",
    "                exp[t] = True\n",
    "                dist[t] = dist[v] + 1\n",
    "                q.appendleft(t)\n",
    "    \n",
    "    return dist"
   ]
  },
  {
   "cell_type": "code",
   "execution_count": 5,
   "metadata": {},
   "outputs": [],
   "source": [
    "def djikstra(weight,s,t):\n",
    "    dist = [999999 for i in range(len(weight))]\n",
    "    dist[s] = 0\n",
    "    queue = Binary_heap()\n",
    "    queue.append((0, s))\n",
    "    while len(queue.heap) > 0 and dist[t] == 999999:\n",
    "        current, v = queue.extract_max()\n",
    "        current = -current\n",
    "        if current > dist[v]:\n",
    "            continue\n",
    "        for item in weight[v].keys():\n",
    "            edge = weight[v][item]\n",
    "            if dist[item] > current + edge:\n",
    "                dist[item] = current + edge\n",
    "                queue.append((-dist[item], item))\n",
    "    return dist,t"
   ]
  },
  {
   "cell_type": "code",
   "execution_count": 6,
   "metadata": {},
   "outputs": [],
   "source": [
    "#class needed for priority queue\n",
    "class Binary_heap:\n",
    "    \n",
    "    def __init__(self):\n",
    "        self.heap = []\n",
    "        \n",
    "    @staticmethod\n",
    "    def _parent(i):\n",
    "        return int((i - 1) // 2)\n",
    "    @staticmethod\n",
    "    def _child(k,i):\n",
    "        return 2*k +i\n",
    "        \n",
    "\n",
    "    def _swap(self, i, j):\n",
    "        self.heap[i], self.heap[j] = self.heap[j], self.heap[i]\n",
    "\n",
    "    def _shift_down(self):\n",
    "        length = len(self.heap) - 1\n",
    "        k = 0\n",
    "        while length > k:\n",
    "\n",
    "            maax= -1\n",
    "\n",
    "            for i in [1,2]:\n",
    "                z = Binary_heap._child(k,i)\n",
    "                if z > length:\n",
    "                    break\n",
    "                elif (self.heap[z][0] > self.heap[k][0]) and (maax == -1 or self.heap[maax][0] < self.heap[z][0]):\n",
    "                    maax = z\n",
    "\n",
    "            if maax == -1:\n",
    "                break\n",
    "            else:\n",
    "                Binary_heap._swap(self, k, maax)\n",
    "                k = maax\n",
    "        \n",
    "    def _shift_up(self):\n",
    "        length = len(self.heap) - 1\n",
    "        while length > 0:\n",
    "            p = Binary_heap._parent(length)\n",
    "            if self.heap[p][0] < self.heap[length][0]:\n",
    "                Binary_heap._swap(self, p, length)\n",
    "                length = p \n",
    "            else:\n",
    "                break\n",
    "\n",
    "    def append(self, x):\n",
    "        self.heap.append(x)\n",
    "        Binary_heap._shift_up(self)\n",
    "\n",
    "    def extract_max(self):\n",
    "        if len(self.heap) == 0:\n",
    "            return None\n",
    "        if len(self.heap) == 1:\n",
    "            return self.heap.pop()\n",
    "\n",
    "        out = self.heap[0]\n",
    "        self.heap[0] = self.heap.pop()\n",
    "        Binary_heap._shift_down(self)\n",
    "        return out"
   ]
  },
  {
   "cell_type": "code",
   "execution_count": 7,
   "metadata": {},
   "outputs": [],
   "source": [
    "def answer(file):\n",
    "    weights,s,t = weight(file)\n",
    "    dist, t = djikstra(weights,s,t)\n",
    "    return dist[t]\n",
    "    "
   ]
  },
  {
   "cell_type": "code",
   "execution_count": 8,
   "metadata": {},
   "outputs": [],
   "source": [
    "out = open('output.txt', \"w\")\n",
    "out.write(str(answer('input.txt')))\n",
    "out.close()"
   ]
  }
 ],
 "metadata": {
  "kernelspec": {
   "display_name": "Python 3",
   "language": "python",
   "name": "python3"
  },
  "language_info": {
   "codemirror_mode": {
    "name": "ipython",
    "version": 3
   },
   "file_extension": ".py",
   "mimetype": "text/x-python",
   "name": "python",
   "nbconvert_exporter": "python",
   "pygments_lexer": "ipython3",
   "version": "3.6.5"
  }
 },
 "nbformat": 4,
 "nbformat_minor": 2
}
