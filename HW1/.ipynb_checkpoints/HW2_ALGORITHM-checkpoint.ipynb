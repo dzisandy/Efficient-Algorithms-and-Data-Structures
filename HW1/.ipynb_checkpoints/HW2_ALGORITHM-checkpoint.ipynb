{
 "cells": [
  {
   "cell_type": "markdown",
   "metadata": {},
   "source": [
    "Help an artist!\n",
    "\n",
    "## Task\n",
    "\n",
    "Inspired by Picasso's \"Girl on the ball\", sculptor Vassily wants to carve a large ball. He needs a stone block for that, and goes to a stone warehouse. There he finds a vast array of stones, all of them are rectangular boxes (rectangular parallelepipeds) of various sizes. Since Vassily wants to carve the largest ball possible, one simple option is to choose a stone box with the maximum value of the smallest dimension (e.g. box with dimensions 45×40×60 allows carving a ball of diameter 40). However, there is also another option: Vassily can choose two boxes (but not more) and glue them together to produce a larger box. He can only do that if the two boxes have an identical rectangular face: for example, he can glue up boxes of dimensions 70×80×50 and 80×40×70 to obtain a box of dimensions 70×80×90. (Note that it is possible to turn boxes around. Note also that each box is available in one copy, that is it is not possible to glue a box \"with itself\".)\n",
    "\n",
    "There are too many boxes to choose from and Vassily does not know how to make the best choice to make the largest possible ball. He is an artist who never studied algorithms and never heard about hashing. Write a program efficiently helping Vassily to choose one or two boxes. \"Efficiency\" here means that your solution should avoid sorting or searching of large arrays of numbers and should preferably process boxes online.\n",
    "\n",
    "## Input:\n",
    "\n",
    "Input file named input.txt is formatted as follows:\n",
    "The first line holds the number of boxes n (1≤n≤10^{5}).\n",
    "It is followed by n lines, line i storing the dimensions of the i-th box: 3 integers separated by a space.\n",
    "\n",
    "## Output:\n",
    "\n",
    "Output file named output.txt should have three lines: \n",
    "The 1st line holds the number of chosen boxes (1 or 2)\n",
    "The 2nd line holds the index(es) of chosen box(es): either one or two numbers between 1 and n separated by a space. Indexes of two boxes are written in increasing order\n",
    "The 3rd line holds the diameter of the ball"
   ]
  },
  {
   "cell_type": "code",
   "execution_count": 12,
   "metadata": {},
   "outputs": [],
   "source": [
    "def read(file):\n",
    "    f = open(file)\n",
    "    n = int(f.readline())\n",
    "    hashs = []\n",
    "    for i in range(n):\n",
    "        hashs.append(list(map(int,f.readline().split())))\n",
    "    return n, hashs\n",
    "    \n",
    "def hash_value(hashs,i):\n",
    "        sp = sorted(hashs, reverse = True)\n",
    "        square = sp[0]*sp[1]\n",
    "        return [square, sp + [i]] \n",
    "\n",
    "def search_max(table,key,value,n):\n",
    "    maximum = [0,0]\n",
    "    massive = lookup(table,key,n)\n",
    "    for itr in massive:\n",
    "        if itr[0] == value[0]:\n",
    "            return [itr[3],min(itr[1],itr[2] + value[2])]\n",
    "    return maximum"
   ]
  },
  {
   "cell_type": "code",
   "execution_count": 13,
   "metadata": {},
   "outputs": [],
   "source": [
    "def hash_table(n):\n",
    "    return [[] for i in range(n)]\n",
    "\n",
    "def hashed(key,n):\n",
    "    return key % n\n",
    "\n",
    "def ins(table,key,value,n):\n",
    "    square = value[0]\n",
    "    dim = value[2]\n",
    "    pos = False \n",
    "    hs = hashed(key,n)\n",
    "    a = [i for i in range(len(table[hs]))]\n",
    "    ttable = zip(a,table[hs])\n",
    "    for index, item in ttable:\n",
    "        if item[0] == square:\n",
    "            if item[2] < dim:\n",
    "                delete(table,hs,index)\n",
    "                table.append(value)\n",
    "                pos = True\n",
    "                break\n",
    "    if pos == False:\n",
    "            table[hs].append(value)\n",
    "    return 0"
   ]
  },
  {
   "cell_type": "code",
   "execution_count": 14,
   "metadata": {},
   "outputs": [],
   "source": [
    "def lookup(table,key,n):\n",
    "    hs = hashed(key,n)\n",
    "    return table[hs]\n",
    "\n",
    "def delete(table,hs,index):\n",
    "    del table[hs][index]\n",
    "    return 0"
   ]
  },
  {
   "cell_type": "code",
   "execution_count": 15,
   "metadata": {},
   "outputs": [],
   "source": [
    "def answer(method,radius,pairs):\n",
    "    out = open('output.txt', 'w')\n",
    "    if method == 1:\n",
    "        out.write('1\\n')\n",
    "        out.write(str(pairs[0]) + '\\n')\n",
    "        out.write(str(radius))\n",
    "    else: \n",
    "        out.write('2\\n')\n",
    "        out.write(str(pairs[0]) + ' ')\n",
    "        out.write(str(pairs[1]) + '\\n')\n",
    "        out.write(str(radius))\n",
    "    out.close()\n",
    "    return 0"
   ]
  },
  {
   "cell_type": "code",
   "execution_count": 16,
   "metadata": {},
   "outputs": [],
   "source": [
    "def final(file) :\n",
    "    method = 0\n",
    "    radius = 0\n",
    "    pairs = []\n",
    "    n, hashs = read(file)\n",
    "    hash_tbl = hash_table(n)\n",
    "    for i in range(n):\n",
    "        if radius <= min(hashs[i]):\n",
    "            method = 1\n",
    "            radius = min(hashs[i])\n",
    "            pairs = [i+1]\n",
    "        if max(hashs[i]) <= radius:\n",
    "            continue    \n",
    "        values = hash_value(hashs[i],i)\n",
    "        maxx = search_max(hash_tbl,values[0],values[1],n)\n",
    "        if maxx[1] > radius:\n",
    "            method = 2\n",
    "            radius = maxx[1]\n",
    "            pairs = [maxx[0]+1,i+1]\n",
    "        ins(hash_tbl,values[0],values[1],n)    \n",
    "    answer(method,radius,pairs)\n",
    "    return method,radius,pairs\n",
    "    #return 0\n"
   ]
  },
  {
   "cell_type": "code",
   "execution_count": 17,
   "metadata": {},
   "outputs": [
    {
     "data": {
      "text/plain": [
       "(2, 996, [11630, 11948])"
      ]
     },
     "execution_count": 17,
     "metadata": {},
     "output_type": "execute_result"
    }
   ],
   "source": [
    "final('input1.txt')"
   ]
  }
 ],
 "metadata": {
  "kernelspec": {
   "display_name": "Python 3",
   "language": "python",
   "name": "python3"
  },
  "language_info": {
   "codemirror_mode": {
    "name": "ipython",
    "version": 3
   },
   "file_extension": ".py",
   "mimetype": "text/x-python",
   "name": "python",
   "nbconvert_exporter": "python",
   "pygments_lexer": "ipython3",
   "version": "3.6.5"
  }
 },
 "nbformat": 4,
 "nbformat_minor": 2
}
