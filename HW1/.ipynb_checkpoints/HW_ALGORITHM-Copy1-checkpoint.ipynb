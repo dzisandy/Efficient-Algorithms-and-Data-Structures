{
 "cells": [
  {
   "cell_type": "markdown",
   "metadata": {},
   "source": [
    "Help an artist!\n",
    "\n",
    "## Task\n",
    "\n",
    "Inspired by Picasso's \"Girl on the ball\", sculptor Vassily wants to carve a large ball. He needs a stone block for that, and goes to a stone warehouse. There he finds a vast array of stones, all of them are rectangular boxes (rectangular parallelepipeds) of various sizes. Since Vassily wants to carve the largest ball possible, one simple option is to choose a stone box with the maximum value of the smallest dimension (e.g. box with dimensions 45×40×60 allows carving a ball of diameter 40). However, there is also another option: Vassily can choose two boxes (but not more) and glue them together to produce a larger box. He can only do that if the two boxes have an identical rectangular face: for example, he can glue up boxes of dimensions 70×80×50 and 80×40×70 to obtain a box of dimensions 70×80×90. (Note that it is possible to turn boxes around. Note also that each box is available in one copy, that is it is not possible to glue a box \"with itself\".)\n",
    "\n",
    "There are too many boxes to choose from and Vassily does not know how to make the best choice to make the largest possible ball. He is an artist who never studied algorithms and never heard about hashing. Write a program efficiently helping Vassily to choose one or two boxes. \"Efficiency\" here means that your solution should avoid sorting or searching of large arrays of numbers and should preferably process boxes online.\n",
    "\n",
    "## Input:\n",
    "\n",
    "Input file named input.txt is formatted as follows:\n",
    "The first line holds the number of boxes n (1≤n≤10^{5}).\n",
    "It is followed by n lines, line i storing the dimensions of the i-th box: 3 integers separated by a space.\n",
    "\n",
    "## Output:\n",
    "\n",
    "Output file named output.txt should have three lines: \n",
    "The 1st line holds the number of chosen boxes (1 or 2)\n",
    "The 2nd line holds the index(es) of chosen box(es): either one or two numbers between 1 and n separated by a space. Indexes of two boxes are written in increasing order\n",
    "The 3rd line holds the diameter of the ball"
   ]
  },
  {
   "cell_type": "code",
   "execution_count": 1,
   "metadata": {},
   "outputs": [],
   "source": [
    "def balls(file):\n",
    "    f = open(file)\n",
    "    n  = int(f.readline())\n",
    "    hashs = []\n",
    "    for i in range(n):\n",
    "        hashs.append(list(map(int, f.readline().split())))\n",
    "    return hashs"
   ]
  },
  {
   "cell_type": "code",
   "execution_count": 10,
   "metadata": {},
   "outputs": [],
   "source": [
    "def hashed(sp):\n",
    "    squares = []\n",
    "    minimum = 0\n",
    "    index = 0\n",
    "    for i in range(len(sp)):\n",
    "        if minimum < min(sp[i]):\n",
    "            minimum = min(sp[i])\n",
    "            index = i+1\n",
    "        else:\n",
    "            continue\n",
    "    return a, squares, minimum, index\n",
    "    \n"
   ]
  },
  {
   "cell_type": "code",
   "execution_count": 12,
   "metadata": {},
   "outputs": [],
   "source": [
    "def answer(file):\n",
    "    out = open('output.txt', \"w\")\n",
    "    sp = balls(file)\n",
    "    a,squares, minimum, index  = hashed(sp)\n",
    "    radius, indexes = couple(a,squares)\n",
    "    if minimum > radius:\n",
    "        out.write('1\\n')\n",
    "        out.write(str(index)+'\\n')\n",
    "        out.write(str(minimum))\n",
    "    else:\n",
    "        out.write('2\\n')\n",
    "        out.write(str(indexes[0])+' ')\n",
    "        out.write(str(indexes[1])+'\\n')\n",
    "        out.write(str(radius))\n",
    "    out.close()"
   ]
  },
  {
   "cell_type": "code",
   "execution_count": 13,
   "metadata": {},
   "outputs": [],
   "source": [
    "answer('input1.txt')"
   ]
  }
 ],
 "metadata": {
  "kernelspec": {
   "display_name": "Python 3",
   "language": "python",
   "name": "python3"
  },
  "language_info": {
   "codemirror_mode": {
    "name": "ipython",
    "version": 3
   },
   "file_extension": ".py",
   "mimetype": "text/x-python",
   "name": "python",
   "nbconvert_exporter": "python",
   "pygments_lexer": "ipython3",
   "version": "3.6.5"
  }
 },
 "nbformat": 4,
 "nbformat_minor": 2
}
