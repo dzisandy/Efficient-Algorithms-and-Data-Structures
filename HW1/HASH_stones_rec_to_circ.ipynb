{
 "cells": [
  {
   "cell_type": "code",
   "execution_count": 1,
   "metadata": {},
   "outputs": [],
   "source": [
    "class hash_table_two_dim:\n",
    "    def __init__(self, size_1, size_2): \n",
    "        self.size_1 = size_1\n",
    "        self.size_2 = size_2\n",
    "        self.table = [ [ [] for i in range(size_2)]  for i in range(size_1)]\n",
    "        print(\"ok\")\n",
    "    def hash_func(self, key_1, key_2):\n",
    "        place_1 = key_1 % (self.size_1)\n",
    "        place_2 = key_2 % self.size_2\n",
    "        return [place_1,place_2]\n",
    "    \n",
    "    def insert(self, key_1, key_2, value):\n",
    "        place_1 = self.hash_func(key_1,key_2)[0]\n",
    "        place_2 = self.hash_func(key_1,key_2)[1]\n",
    "        self.table[place_1][place_2].append(value) # value = [max_same,min_same, third dim, num]\n",
    "        \n",
    "        if len(self.table[place_1][place_2]) == 3:\n",
    "            minimum = self.table[place_1][place_2][0][2]\n",
    "            index_min = 0\n",
    "            for index, value in enumerate(self.table[place_1][place_2][1:]):\n",
    "                if value[2] < minimum:\n",
    "                    minimum = value[2]\n",
    "                    index_min = index\n",
    "            del self.table[place_1][place_2][index_min]\n",
    "        return 0\n",
    "    \n",
    "    \n",
    "    def search_mas_key(self, key_1, key_2):\n",
    "        place_1 = self.hash_func(key_1,key_2)[0]\n",
    "        place_2 = self.hash_func(key_1,key_2)[1]\n",
    "        return self.table[place_1][place_2]\n",
    "        \n",
    "class hash_table:\n",
    "    \n",
    "    def __init__(self, size_1): \n",
    "        self.size_1 = size_1\n",
    "        self.table = [ []  for i in range(size_1)]\n",
    "        print(\"ok\")\n",
    "        \n",
    "    def hash_func(self, key_1):\n",
    "        place_1 = key_1 % (self.size_1)\n",
    "\n",
    "        return place_1\n",
    "    \n",
    "    def insert(self, key_1, value):   # value = [max_same,avr_same, small dim, num]\n",
    "        place_1 = self.hash_func(key_1)\n",
    "        flag = 0\n",
    "        for index, val in enumerate(self.table[place_1]):\n",
    "            if val[0] == value[0] and val[1] == value[1]:\n",
    "                if val[2] < value[2]:\n",
    "                    del self.table[place_1][index]\n",
    "                    self.table[place_1].append(value)\n",
    "                    flag = 1\n",
    "                    break;\n",
    "        if flag == 0:\n",
    "            self.table[place_1].append(value)\n",
    "        return 0\n",
    "    \n",
    "    \n",
    "    def search_mas_key(self, key_1):\n",
    "        place_1 = self.hash_func(key_1)\n",
    "        \n",
    "        return self.table[place_1]\n",
    "                    \n",
    "    "
   ]
  },
  {
   "cell_type": "code",
   "execution_count": 2,
   "metadata": {},
   "outputs": [],
   "source": [
    "a = [1,3,5]\n"
   ]
  },
  {
   "cell_type": "code",
   "execution_count": 3,
   "metadata": {},
   "outputs": [
    {
     "ename": "FileNotFoundError",
     "evalue": "[Errno 2] No such file or directory: 'input.txt'",
     "output_type": "error",
     "traceback": [
      "\u001b[0;31m---------------------------------------------------------------------------\u001b[0m",
      "\u001b[0;31mFileNotFoundError\u001b[0m                         Traceback (most recent call last)",
      "\u001b[0;32m<ipython-input-3-58b760787133>\u001b[0m in \u001b[0;36m<module>\u001b[0;34m()\u001b[0m\n\u001b[1;32m    124\u001b[0m \u001b[0;34m\u001b[0m\u001b[0m\n\u001b[1;32m    125\u001b[0m \u001b[0;32mif\u001b[0m \u001b[0m__name__\u001b[0m \u001b[0;34m==\u001b[0m \u001b[0;34m'__main__'\u001b[0m\u001b[0;34m:\u001b[0m\u001b[0;34m\u001b[0m\u001b[0m\n\u001b[0;32m--> 126\u001b[0;31m     \u001b[0mmain\u001b[0m\u001b[0;34m(\u001b[0m\u001b[0;34m)\u001b[0m\u001b[0;34m\u001b[0m\u001b[0m\n\u001b[0m\u001b[1;32m    127\u001b[0m \u001b[0;34m\u001b[0m\u001b[0m\n",
      "\u001b[0;32m<ipython-input-3-58b760787133>\u001b[0m in \u001b[0;36mmain\u001b[0;34m()\u001b[0m\n\u001b[1;32m     83\u001b[0m \u001b[0;32mdef\u001b[0m \u001b[0mmain\u001b[0m \u001b[0;34m(\u001b[0m\u001b[0;34m)\u001b[0m \u001b[0;34m:\u001b[0m\u001b[0;34m\u001b[0m\u001b[0m\n\u001b[1;32m     84\u001b[0m     \u001b[0mmax_dim\u001b[0m \u001b[0;34m=\u001b[0m \u001b[0;34m[\u001b[0m\u001b[0;36m1\u001b[0m\u001b[0;34m,\u001b[0m\u001b[0;34m[\u001b[0m\u001b[0;34m-\u001b[0m\u001b[0;36m1\u001b[0m\u001b[0;34m]\u001b[0m\u001b[0;34m,\u001b[0m\u001b[0;34m-\u001b[0m\u001b[0;36m1\u001b[0m\u001b[0;34m]\u001b[0m\u001b[0;34m\u001b[0m\u001b[0m\n\u001b[0;32m---> 85\u001b[0;31m     \u001b[0mfile\u001b[0m \u001b[0;34m=\u001b[0m \u001b[0mopen\u001b[0m\u001b[0;34m(\u001b[0m\u001b[0;34m\"input.txt\"\u001b[0m\u001b[0;34m,\u001b[0m \u001b[0;34m\"r\"\u001b[0m\u001b[0;34m)\u001b[0m\u001b[0;34m\u001b[0m\u001b[0m\n\u001b[0m\u001b[1;32m     86\u001b[0m     \u001b[0mn\u001b[0m \u001b[0;34m=\u001b[0m \u001b[0mint\u001b[0m\u001b[0;34m(\u001b[0m\u001b[0mfile\u001b[0m\u001b[0;34m.\u001b[0m\u001b[0mreadline\u001b[0m\u001b[0;34m(\u001b[0m\u001b[0;34m)\u001b[0m\u001b[0;34m)\u001b[0m\u001b[0;34m\u001b[0m\u001b[0m\n\u001b[1;32m     87\u001b[0m     \u001b[0mhash_table_1\u001b[0m \u001b[0;34m=\u001b[0m \u001b[0mhash_table\u001b[0m\u001b[0;34m(\u001b[0m\u001b[0mn\u001b[0m\u001b[0;34m)\u001b[0m\u001b[0;34m\u001b[0m\u001b[0m\n",
      "\u001b[0;31mFileNotFoundError\u001b[0m: [Errno 2] No such file or directory: 'input.txt'"
     ]
    }
   ],
   "source": [
    "class hash_table:\n",
    "    \n",
    "    def __init__(self, size_1): \n",
    "        self.size_1 = size_1\n",
    "        self.table = [ []  for i in range(size_1)]\n",
    "        print(\"ok\")\n",
    "        \n",
    "    def hash_func(self, key_1):\n",
    "        place_1 = key_1 % (self.size_1)\n",
    "\n",
    "        return place_1\n",
    "    \n",
    "    def insert(self, key_1, value):   # value = [max_same,avr_same, small dim, num]\n",
    "        place_1 = self.hash_func(key_1)\n",
    "        flag = 0\n",
    "        for index, val in enumerate(self.table[place_1]):\n",
    "            if val[0] == value[0] and val[1] == value[1]:\n",
    "                if val[2] < value[2]:\n",
    "                    del self.table[place_1][index]\n",
    "                    self.table[place_1].append(value)\n",
    "                    flag = 1\n",
    "                    break;\n",
    "        if flag == 0:\n",
    "            self.table[place_1].append(value)\n",
    "        return 0\n",
    "    \n",
    "    \n",
    "    def search_mas_key(self, key_1):\n",
    "        place_1 = self.hash_func(key_1)\n",
    "        \n",
    "        return self.table[place_1]\n",
    "                    \n",
    "\n",
    "\n",
    "\n",
    "\n",
    "def sort_3(mas):\n",
    "    \n",
    "    if mas[0] >= mas[1] >= mas[2]:\n",
    "        return mas\n",
    "    \n",
    "    if mas[0] >= mas[2] >= mas[1]:\n",
    "        return [mas[0],mas[2],mas[1]]\n",
    "    \n",
    "    \n",
    "    if mas[1] >= mas[0] >= mas[2]:\n",
    "        return [mas[1],mas[0],mas[2]]\n",
    "    \n",
    "    \n",
    "    if mas[1] >= mas[2] >= mas[0]:\n",
    "        return [mas[1],mas[2],mas[0]]\n",
    "    \n",
    "    \n",
    "    if mas[2] >= mas[1] >= mas[0]:\n",
    "        return [mas[2],mas[1],mas[0]]\n",
    "    \n",
    "    \n",
    "    if mas[2] >= mas[0] >= mas[1]:\n",
    "        return [mas[2],mas[0],mas[1]]\n",
    "        \n",
    "            \n",
    "    \n",
    "\n",
    "def make_key_value(point, i):\n",
    "    n_point = sort_3(point)\n",
    "    return [n_point[0] * n_point[1], n_point + [i] ] \n",
    "\n",
    "\n",
    "\n",
    "def find_max(hash_table, key_1, value):\n",
    "    maximum = [-1,-1]\n",
    "    massive = hash_table.search_mas_key( key_1)\n",
    "    for mas in massive:\n",
    "        #print(mas, value)\n",
    "        if mas[0] == value[0] and mas[1] == value[1]:\n",
    "            return [mas[3], min(mas[2] + value[2] , mas[1]) ]\n",
    "\n",
    "    return maximum\n",
    "        \n",
    "\n",
    "\n",
    "    \n",
    "def main () :\n",
    "    max_dim = [1,[-1],-1]\n",
    "    file = open(\"input.txt\", \"r\")\n",
    "    n = int(file.readline())\n",
    "    hash_table_1 = hash_table(n)\n",
    "    #print(\"start\")\n",
    "    maximum = [-1,-1]\n",
    "    for i in range(n):\n",
    "        #print(n)\n",
    "        point_1 = file.readline().strip(\"\\n\").split(\" \")\n",
    "        point = [int(s) for s in point_1]\n",
    "        \n",
    "        if max_dim[2] <= min(point):\n",
    "            max_dim = [1, [i+1] , min(point)]\n",
    "        if max(point) <= max_dim[2]:\n",
    "            continue\n",
    "            \n",
    "        key_value = make_key_value(point, i)\n",
    "        \n",
    "        \n",
    "        \n",
    "        maximum = find_max(hash_table_1, key_value[0], key_value[1])\n",
    "        #print(maximum)\n",
    "        if maximum[1] > max_dim[2]:\n",
    "            max_dim = [2,[maximum[0] + 1 , i + 1], maximum[1]]\n",
    "        \n",
    "        \n",
    "        hash_table_1.insert(key_value[0], key_value[1])\n",
    "        \n",
    "        \n",
    "        \n",
    "    file.close()\n",
    "    fil = open(\"output.txt\", \"w\")\n",
    "    if max_dim[0] == 1 : \n",
    "        fil.write(str(1) + \"\\n\" + str(max_dim[1][0]) + \"\\n\" + str(max_dim[2]))\n",
    "    else: \n",
    "        fil.write(str(2) + \"\\n\" + str(max_dim[1][0]) + ' ' + str(max_dim[1][1]) + \"\\n\" + str(max_dim[2]))\n",
    "    fil.close()\n",
    "\n",
    "    return max_dim\n",
    "\n",
    "        \n",
    "if __name__ == '__main__':\n",
    "    main()       \n",
    "        \n"
   ]
  },
  {
   "cell_type": "code",
   "execution_count": 10,
   "metadata": {},
   "outputs": [
    {
     "name": "stdout",
     "output_type": "stream",
     "text": [
      "ok\n"
     ]
    },
    {
     "data": {
      "text/plain": [
       "[2, [3427, 4085], 100]"
      ]
     },
     "execution_count": 10,
     "metadata": {},
     "output_type": "execute_result"
    }
   ],
   "source": [
    "main()"
   ]
  },
  {
   "cell_type": "code",
   "execution_count": 4,
   "metadata": {},
   "outputs": [
    {
     "ename": "NameError",
     "evalue": "name 'h' is not defined",
     "output_type": "error",
     "traceback": [
      "\u001b[0;31m---------------------------------------------------------------------------\u001b[0m",
      "\u001b[0;31mNameError\u001b[0m                                 Traceback (most recent call last)",
      "\u001b[0;32m<ipython-input-4-244aa7266b3f>\u001b[0m in \u001b[0;36m<module>\u001b[0;34m()\u001b[0m\n\u001b[0;32m----> 1\u001b[0;31m \u001b[0mh\u001b[0m\u001b[0;34m\u001b[0m\u001b[0m\n\u001b[0m",
      "\u001b[0;31mNameError\u001b[0m: name 'h' is not defined"
     ]
    }
   ],
   "source": [
    "h"
   ]
  },
  {
   "cell_type": "code",
   "execution_count": 5,
   "metadata": {},
   "outputs": [],
   "source": [
    "import random"
   ]
  },
  {
   "cell_type": "code",
   "execution_count": 9,
   "metadata": {},
   "outputs": [],
   "source": [
    "n = 100000\n",
    "f = open(\"input.txt\", \"w\")\n",
    "f.write(str(n) + '\\n')\n",
    "for i in range(n):\n",
    "    f.write(str(random.randint(0,100)) + ' ')\n",
    "    f.write(str(random.randint(0,100)) + ' ')\n",
    "    f.write(str(random.randint(0,100)) + '\\n')\n",
    "f.close()"
   ]
  },
  {
   "cell_type": "code",
   "execution_count": 48,
   "metadata": {},
   "outputs": [],
   "source": [
    "for i in  range(100000):\n",
    "    [[] for i in range(100)]"
   ]
  },
  {
   "cell_type": "code",
   "execution_count": null,
   "metadata": {},
   "outputs": [],
   "source": []
  },
  {
   "cell_type": "code",
   "execution_count": null,
   "metadata": {},
   "outputs": [],
   "source": []
  }
 ],
 "metadata": {
  "kernelspec": {
   "display_name": "Python 3",
   "language": "python",
   "name": "python3"
  },
  "language_info": {
   "codemirror_mode": {
    "name": "ipython",
    "version": 3
   },
   "file_extension": ".py",
   "mimetype": "text/x-python",
   "name": "python",
   "nbconvert_exporter": "python",
   "pygments_lexer": "ipython3",
   "version": "3.6.5"
  }
 },
 "nbformat": 4,
 "nbformat_minor": 2
}
